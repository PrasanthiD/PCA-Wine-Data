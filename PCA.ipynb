{
 "cells": [
  {
   "cell_type": "code",
   "execution_count": 2,
   "metadata": {
    "ExecuteTime": {
     "end_time": "2021-09-04T10:03:12.163902Z",
     "start_time": "2021-09-04T10:03:12.149493Z"
    }
   },
   "outputs": [],
   "source": [
    "import pandas as pd \n",
    "import numpy as np\n",
    "from sklearn.decomposition import PCA\n",
    "import matplotlib.pyplot as plt\n",
    "from sklearn.preprocessing import scale "
   ]
  },
  {
   "cell_type": "code",
   "execution_count": 3,
   "metadata": {
    "ExecuteTime": {
     "end_time": "2021-09-04T10:03:12.806925Z",
     "start_time": "2021-09-04T10:03:12.654832Z"
    }
   },
   "outputs": [
    {
     "name": "stdout",
     "output_type": "stream",
     "text": [
      " Volume in drive C is Windows-SSD\n",
      " Volume Serial Number is 5A16-7254\n",
      "\n",
      " Directory of C:\\Users\\prasa\\Downloads\n",
      "\n",
      "14-04-2022  14:08    <DIR>          .\n",
      "14-04-2022  17:26    <DIR>          ..\n",
      "04-04-2022  07:52    <DIR>          .ipynb_checkpoints\n",
      "30-12-2021  15:19             1,359 1.logistic.py\n",
      "15-11-2021  07:37           199,907 1080p-Birds-HD-wallpapers-for-laptop.jpg\n",
      "15-11-2021  06:57         7,805,407 1636885462374.JPG\n",
      "15-11-2021  06:58           107,735 1636885543205.jpg\n",
      "15-11-2021  06:58            94,258 1636885543210.jpg\n",
      "03-03-2022  15:51         3,823,830 1646210835727.png\n",
      "31-03-2022  08:50               583 2.Logistic_Save_Load_model.py\n",
      "30-12-2021  15:19             1,284 3.logistic_with_pre_build_model.py\n",
      "30-12-2021  15:19             1,000 4.logistic_with_pre_build_model.py\n",
      "23-12-2021  16:29             2,436 50_Startups.csv\n",
      "11-12-2021  21:19               342 A2-Q1.csv\n",
      "11-12-2021  21:08            10,257 A2-Q1.xlsx\n",
      "22-03-2022  07:25            30,582 Afinn.csv\n",
      "25-02-2022  09:03            87,537 AI [Regression ].ipynb\n",
      "07-12-2021  22:52            11,971 All_About_Pandas.py\n",
      "15-11-2021  07:21       500,375,944 Anaconda3-2021.05-Windows-x86_64.exe\n",
      "24-02-2022  08:56            38,632 Anova and Chisquare.ipynb\n",
      "31-03-2022  08:45               901 app.py\n",
      "22-03-2022  07:26            23,666 apple.txt\n",
      "09-02-2022  16:31            45,073 Assignment (1).docx\n",
      "02-12-2021  23:14            45,073 Assignment (2).docx\n",
      "10-12-2021  23:26           193,502 Assignment- Basic statistics1.docx\n",
      "15-11-2021  16:15            45,073 Assignment.docx\n",
      "22-12-2021  23:58            79,772 Assignment-3 salary_hike.ipynb\n",
      "22-12-2021  22:34            62,520 Assignment-3.ipynb\n",
      "08-03-2022  08:52            60,753 Association Rules.ipynb\n",
      "10-02-2022  16:49            52,810 association-new.ipynb\n",
      "25-03-2022  08:18            45,086 Bagging_Random Forest_Boosting_Stacking.ipynb\n",
      "16-03-2022  08:07            12,556 Bagging_Random Forest_Boosting_Stacking1.ipynb\n",
      "22-02-2022  16:47             6,421 bagging-boosting.ipynb\n",
      "03-04-2022  23:30         3,751,306 bank-full (1).csv\n",
      "03-04-2022  22:12         4,610,348 bank-full.csv\n",
      "07-12-2021  22:55             3,066 Basics.py\n",
      "08-12-2021  15:15           103,983 BEML.csv\n",
      "17-02-2022  07:52            87,155 beml_df.csv\n",
      "09-03-2022  14:42            46,094 book.csv\n",
      "03-03-2022  16:04         6,050,813 box_man_couple_key_chain-wallpaper-5120x2880.jpg\n",
      "11-12-2021  22:20            80,753 boxplot.jpg\n",
      "21-12-2021  15:58             3,527 Cars (1).csv\n",
      "15-11-2021  16:20             3,529 Cars.csv\n",
      "10-02-2022  06:52            55,869 cars_data_PCA.ipynb\n",
      "23-02-2022  07:55             1,444 chi2.ipynb\n",
      "15-11-2021  03:30         1,341,272 ChromeSetup (1).exe\n",
      "15-11-2021  03:29         1,341,272 ChromeSetup.exe\n",
      "30-12-2021  15:51            29,822 claimants (1).csv\n",
      "24-12-2021  15:36            29,822 claimants.csv\n",
      "30-12-2021  15:51               547 Claimants_Test.csv\n",
      "31-03-2022  09:04               547 Claimants_Test1.csv\n",
      "02-12-2021  23:14           252,761 Computer_Data.csv\n",
      "17-02-2022  08:15            18,407 Confidence Interval.ipynb\n",
      "24-12-2021  15:36           165,280 Confusion Matrix.png\n",
      "03-03-2022  15:59         1,746,613 Cosmos-4K-Wallpaper-3840x2160.jpg\n",
      "08-02-2022  18:26             1,328 crime_data.csv\n",
      "16-02-2022  17:22           132,084 crime_data_clustering_assignment.ipynb\n",
      "01-04-2022  07:32            67,923 daily-minimum-temperatures (1).csv\n",
      "28-12-2021  12:54            26,020 Data Science icon.jpg\n",
      "10-12-2021  16:31             5,311 data_clean.csv\n",
      "09-02-2022  16:01             8,553 dbscan.ipynb\n",
      "16-02-2022  17:02            13,893 decisiontreecart.ipynb\n",
      "17-12-2021  22:36               218 delivery_time.csv\n",
      "31-03-2022  08:45            22,499 deployment.ipynb\n",
      "30-12-2021  16:08             1,392 deployment_logistic_practice.py\n",
      "14-12-2021  17:12             2,137 Descriptive_Vis.R\n",
      "05-04-2022  07:48            23,873 diabetes.csv\n",
      "14-12-2021  16:18             1,481 dplyr.R\n",
      "13-02-2022  15:21           157,167 EastWestAirlines.csv\n",
      "13-02-2022  15:20           245,649 EastWestAirlines.csv.xlsx\n",
      "08-02-2022  18:26           268,963 EastWestAirlines.xlsx\n",
      "22-12-2021  23:13           362,228 EDA_1_Latest (1).ipynb\n",
      "14-02-2022  09:02            97,722 EDA_1_Latest.ipynb\n",
      "16-02-2022  17:02            30,442 edapart-2.ipynb\n",
      "04-04-2022  08:49             4,366 Email_OTP_RU308053.pdf\n",
      "15-12-2021  16:18            40,960 f9e88e2f575a3cf66efc8dbf1e6cf715.doc\n",
      "15-11-2021  07:29           333,872 Firefox Installer.exe\n",
      "01-04-2022  07:32             9,197 footfalls.csv\n",
      "04-04-2022  07:52           116,207 Forecasting Model_Arima.ipynb\n",
      "01-04-2022  07:32           889,022 Forecasting_Data Driven Models.ipynb\n",
      "08-12-2021  15:15           107,633 GLAXO.csv\n",
      "17-02-2022  07:52            88,939 glaxo_df.csv\n",
      "11-03-2022  09:03           229,071 Hierarchical Clustering (1).ipynb\n",
      "08-02-2022  18:55            45,739 Hierarchical Clustering.ipynb\n",
      "16-02-2022  17:02            53,557 Hierarchical_Airlines_Assignment.ipynb\n",
      "22-02-2022  08:34            16,407 Hypothesis Test.ipynb\n",
      "16-02-2022  16:28             4,821 iris.csv\n",
      "17-02-2022  15:30            47,349 K-Mean_Clustering_Airlines_Assignment.ipynb\n",
      "08-02-2022  20:22           168,594 k-means (2).ipynb\n",
      "06-01-2022  16:43            40,156 K-Means.ipynb\n",
      "06-01-2022  16:13               620 Kmeans.R\n",
      "16-03-2022  08:50            42,202 KNN.ipynb\n",
      "23-02-2022  16:35             6,532 knn-new.ipynb\n",
      "15-11-2021  07:39            41,333 laptop-hd-wallpapers-for-windows-10-preview.jpg\n",
      "24-12-2021  15:36            27,136 Logistic Curve.xls\n",
      "07-03-2022  08:52            72,522 Logistic Regression (1).ipynb\n",
      "04-04-2022  00:11            34,627 Logistic Regression.ipynb\n",
      "31-03-2022  08:49               887 Logistic_Model.sav\n",
      "30-12-2021  15:51               887 Logistic_Model1.sav\n",
      "31-03-2022  08:47               612 Logistic_Save_Load_model.py\n",
      "04-04-2022  00:21            73,951 LogisticRegression_Assignment.ipynb\n",
      "15-11-2021  03:41        81,720,216 McAfee_Installer_serial_V_-RRagNosd9aJEXa33NnA2_key_affid_714_akey.exe\n",
      "03-03-2022  16:01           268,505 Most-beautiful-colorful-bird-4k-Ultra-HD-wallpaper.jpg\n",
      "08-03-2022  08:21           234,909 Movie.csv\n",
      "10-02-2022  08:22             1,336 mtcars.csv\n",
      "02-03-2022  08:56           783,709 Multi Linear Regression.ipynb\n",
      "09-03-2022  14:42               767 my_movies.csv\n",
      "20-11-2021  14:39       493,006,848 mysql-installer-community-8.0.27.1.msi\n",
      "05-04-2022  07:48           469,559 naive classifier.ipynb\n",
      "22-03-2022  08:32           119,458 Named Entity Recognition_Emotion Mining_final.ipynb\n",
      "25-03-2022  08:16            80,563 Neural Network_Back Propagation.ipynb\n",
      "16-12-2021  16:19            68,737 news_paper.ipynb\n",
      "15-12-2021  16:49             1,240 NewspaperData.csv\n",
      "17-02-2022  09:01           122,832 Normal Disribution.ipynb\n",
      "07-12-2021  16:06            40,596 normal-Z table.pdf\n",
      "29-11-2021  16:59            56,869 Pandas_Introduction.ipynb\n",
      "17-03-2022  09:00           137,890 PCA.ipynb\n",
      "14-04-2022  14:08               368 PCA_problem Statement.txt\n",
      "09-02-2022  16:39            91,778 pcanew.ipynb\n",
      "25-03-2022  08:16            23,279 pima-indians-diabetes.csv\n",
      "16-03-2022  07:32            23,279 pima-indians-diabetes.data (2).csv\n",
      "16-03-2022  07:30            23,279 pima-indians-diabetes.data.csv\n",
      "23-12-2021  16:29               468 proble_statement(50_startups).txt\n",
      "08-02-2022  18:26             1,560 Problem_Statement(Airlines).txt\n",
      "09-02-2022  16:30               318 Problem_statements (1).txt\n",
      "17-12-2021  22:36               318 Problem_statements.txt\n",
      "09-03-2022  14:42               274 Problem_Statment.txt\n",
      "08-02-2022  18:26               389 ProblemSatement(crime_data).txt\n",
      "03-04-2022  22:12               108 Problem-Statement(Bank_data).txt\n",
      "18-11-2021  17:11               962 Q7.csv\n",
      "30-11-2021  22:55               502 Q9_a.csv\n",
      "30-11-2021  22:55             2,420 Q9_b.csv\n",
      "15-11-2021  07:17        89,771,528 R-4.1.2-win.exe\n",
      "09-03-2022  07:46           106,348 Recommendation Engine.ipynb\n",
      "14-02-2022  16:21            54,359 recommend-engine.ipynb\n",
      "22-12-2021  14:50            16,042 Regression (1).docx\n",
      "15-12-2021  16:50            16,042 Regression.docx\n",
      "14-12-2021  15:27         2,189,353 report.html\n",
      "15-11-2021  07:25       156,885,800 RStudio-2021.09.1-372.exe\n",
      "30-11-2021  15:30             2,205 Salaries.csv\n",
      "17-12-2021  22:36               454 Salary_Data.csv\n",
      "11-12-2021  00:02            98,065 Set+1_Descriptive+statistics+Probability+(2) (1).docx\n",
      "13-12-2021  19:34           182,038 Set+1_Descriptive+statistics+Probability+(2).docx\n",
      "13-12-2021  23:18            19,194 Set+2_Normal+Distribution+Functions+of+random+variables+(1).docx\n",
      "17-12-2021  21:41            41,984 Set+3.doc\n",
      "07-12-2021  22:49            51,189 Set+4.docx\n",
      "08-03-2022  08:21            44,382 Titanic.csv\n",
      "30-12-2021  16:14             1,752 Toyota Corolla (1).txt\n",
      "30-12-2021  16:28             1,752 Toyota Corolla (2).txt\n",
      "23-12-2021  16:29             1,752 Toyota Corolla.txt\n",
      "21-12-2021  15:58           237,799 Toyota.xlsx\n",
      "03-01-2022  16:04           224,041 ToyotaCorolla (1).csv\n",
      "23-12-2021  16:29           224,041 ToyotaCorolla.csv\n",
      "21-12-2021  15:59           121,045 Toyoto_Corrola.csv\n",
      "01-12-2021  16:41            61,194 train.csv\n",
      "10-03-2022  07:35               827 Universities (1).csv\n",
      "17-03-2022  08:54               827 Universities (2).csv\n",
      "06-01-2022  16:21               827 Universities.csv\n",
      "07-02-2022  16:11               853 University Data Hierarchical clustering.R\n",
      "03-03-2022  21:02             6,494 Untitled.gif\n",
      "21-12-2021  15:52               747 Untitled.ipynb\n",
      "10-02-2022  16:11               576 Untitled1.ipynb\n",
      "14-02-2022  09:11             1,486 Untitled2.ipynb\n",
      "03-04-2022  23:16               576 Untitled3.ipynb\n",
      "01-04-2022  07:36            92,098 Visualisation.ipynb\n",
      "10-02-2022  08:59         1,292,645 Visualization_mat_seaborn_Latest.ipynb\n",
      "01-04-2022  07:32               962 water.csv\n",
      "15-12-2021  16:49             1,170 WC_AT.csv\n",
      "01-02-2022  16:29            69,163 WC_AT.ipynb\n",
      "02-12-2021  23:14             1,172 wc-at.csv\n",
      "14-12-2021  15:26           968,943 weather_report.html\n",
      "03-03-2022  15:51           181,877 WhatsApp Image 2022-03-02 at 3.06.08 PM.jpeg\n",
      "08-02-2022  16:48            15,021 Wholesale customers data.csv\n",
      "14-04-2022  14:08            11,425 wine.csv\n",
      "23-02-2022  16:46            11,595 xgbm-lgbm.ipynb\n",
      "07-12-2021  22:51             1,230 z+score+_probability+_+qqplot_t_distribution.py\n",
      "24-12-2021  16:01           125,160 Zoom_cm_ds_m7KxTK9o1tG7TUjS-AGnTS7nQBF2xxrlrdEMu@BmI1F7qeYZsJtMg7_ke98a2e9da98c66df_.exe\n",
      "16-11-2021  05:52        20,096,832 ZoomInstaller.exe\n",
      "             175 File(s)  1,387,474,783 bytes\n",
      "               3 Dir(s)  84,881,313,792 bytes free\n"
     ]
    }
   ],
   "source": [
    "ls"
   ]
  },
  {
   "cell_type": "code",
   "execution_count": 4,
   "metadata": {
    "ExecuteTime": {
     "end_time": "2021-09-04T10:03:13.272286Z",
     "start_time": "2021-09-04T10:03:13.244511Z"
    }
   },
   "outputs": [
    {
     "data": {
      "text/html": [
       "<div>\n",
       "<style scoped>\n",
       "    .dataframe tbody tr th:only-of-type {\n",
       "        vertical-align: middle;\n",
       "    }\n",
       "\n",
       "    .dataframe tbody tr th {\n",
       "        vertical-align: top;\n",
       "    }\n",
       "\n",
       "    .dataframe thead th {\n",
       "        text-align: right;\n",
       "    }\n",
       "</style>\n",
       "<table border=\"1\" class=\"dataframe\">\n",
       "  <thead>\n",
       "    <tr style=\"text-align: right;\">\n",
       "      <th></th>\n",
       "      <th>Univ</th>\n",
       "      <th>SAT</th>\n",
       "      <th>Top10</th>\n",
       "      <th>Accept</th>\n",
       "      <th>SFRatio</th>\n",
       "      <th>Expenses</th>\n",
       "      <th>GradRate</th>\n",
       "    </tr>\n",
       "  </thead>\n",
       "  <tbody>\n",
       "    <tr>\n",
       "      <th>0</th>\n",
       "      <td>Brown</td>\n",
       "      <td>1310</td>\n",
       "      <td>89</td>\n",
       "      <td>22</td>\n",
       "      <td>13</td>\n",
       "      <td>22704</td>\n",
       "      <td>94</td>\n",
       "    </tr>\n",
       "    <tr>\n",
       "      <th>1</th>\n",
       "      <td>CalTech</td>\n",
       "      <td>1415</td>\n",
       "      <td>100</td>\n",
       "      <td>25</td>\n",
       "      <td>6</td>\n",
       "      <td>63575</td>\n",
       "      <td>81</td>\n",
       "    </tr>\n",
       "    <tr>\n",
       "      <th>2</th>\n",
       "      <td>CMU</td>\n",
       "      <td>1260</td>\n",
       "      <td>62</td>\n",
       "      <td>59</td>\n",
       "      <td>9</td>\n",
       "      <td>25026</td>\n",
       "      <td>72</td>\n",
       "    </tr>\n",
       "    <tr>\n",
       "      <th>3</th>\n",
       "      <td>Columbia</td>\n",
       "      <td>1310</td>\n",
       "      <td>76</td>\n",
       "      <td>24</td>\n",
       "      <td>12</td>\n",
       "      <td>31510</td>\n",
       "      <td>88</td>\n",
       "    </tr>\n",
       "    <tr>\n",
       "      <th>4</th>\n",
       "      <td>Cornell</td>\n",
       "      <td>1280</td>\n",
       "      <td>83</td>\n",
       "      <td>33</td>\n",
       "      <td>13</td>\n",
       "      <td>21864</td>\n",
       "      <td>90</td>\n",
       "    </tr>\n",
       "  </tbody>\n",
       "</table>\n",
       "</div>"
      ],
      "text/plain": [
       "       Univ   SAT  Top10  Accept  SFRatio  Expenses  GradRate\n",
       "0     Brown  1310     89      22       13     22704        94\n",
       "1   CalTech  1415    100      25        6     63575        81\n",
       "2       CMU  1260     62      59        9     25026        72\n",
       "3  Columbia  1310     76      24       12     31510        88\n",
       "4   Cornell  1280     83      33       13     21864        90"
      ]
     },
     "execution_count": 4,
     "metadata": {},
     "output_type": "execute_result"
    }
   ],
   "source": [
    "uni = pd.read_csv(\"C:\\\\Users\\\\prasa\\\\Downloads\\\\Universities (2).csv\")\n",
    "\n",
    "uni.head()"
   ]
  },
  {
   "cell_type": "code",
   "execution_count": 5,
   "metadata": {
    "ExecuteTime": {
     "end_time": "2021-09-04T10:03:13.793825Z",
     "start_time": "2021-09-04T10:03:13.772510Z"
    }
   },
   "outputs": [
    {
     "name": "stderr",
     "output_type": "stream",
     "text": [
      "<ipython-input-5-3aa59f77e3d8>:2: UserWarning: Pandas doesn't allow columns to be created via a new attribute name - see https://pandas.pydata.org/pandas-docs/stable/indexing.html#attribute-access\n",
      "  uni.data = uni.iloc[:,1:]\n"
     ]
    },
    {
     "data": {
      "text/plain": [
       "array([[ 1310,    89,    22,    13, 22704,    94],\n",
       "       [ 1415,   100,    25,     6, 63575,    81],\n",
       "       [ 1260,    62,    59,     9, 25026,    72],\n",
       "       [ 1310,    76,    24,    12, 31510,    88],\n",
       "       [ 1280,    83,    33,    13, 21864,    90],\n",
       "       [ 1340,    89,    23,    10, 32162,    95],\n",
       "       [ 1315,    90,    30,    12, 31585,    95],\n",
       "       [ 1255,    74,    24,    12, 20126,    92],\n",
       "       [ 1400,    91,    14,    11, 39525,    97],\n",
       "       [ 1305,    75,    44,     7, 58691,    87],\n",
       "       [ 1380,    94,    30,    10, 34870,    91],\n",
       "       [ 1260,    85,    39,    11, 28052,    89],\n",
       "       [ 1255,    81,    42,    13, 15122,    94],\n",
       "       [ 1081,    38,    54,    18, 10185,    80],\n",
       "       [ 1375,    91,    14,     8, 30220,    95],\n",
       "       [ 1005,    28,    90,    19,  9066,    69],\n",
       "       [ 1360,    90,    20,    12, 36450,    93],\n",
       "       [ 1075,    49,    67,    25,  8704,    67],\n",
       "       [ 1240,    95,    40,    17, 15140,    78],\n",
       "       [ 1290,    75,    50,    13, 38380,    87],\n",
       "       [ 1180,    65,    68,    16, 15470,    85],\n",
       "       [ 1285,    80,    36,    11, 27553,    90],\n",
       "       [ 1225,    77,    44,    14, 13349,    92],\n",
       "       [ 1085,    40,    69,    15, 11857,    71],\n",
       "       [ 1375,    95,    19,    11, 43514,    96]], dtype=int64)"
      ]
     },
     "execution_count": 5,
     "metadata": {},
     "output_type": "execute_result"
    }
   ],
   "source": [
    "# Considering only numerical data \n",
    "uni.data = uni.iloc[:,1:]\n",
    "uni.data.head()\n",
    "# Converting into numpy array\n",
    "UNI = uni.data.values\n",
    "UNI"
   ]
  },
  {
   "cell_type": "code",
   "execution_count": 6,
   "metadata": {
    "ExecuteTime": {
     "end_time": "2021-09-04T10:03:14.392795Z",
     "start_time": "2021-09-04T10:03:14.379018Z"
    }
   },
   "outputs": [],
   "source": [
    "# Normalizing the numerical data \n",
    "uni_normal = scale(UNI)"
   ]
  },
  {
   "cell_type": "code",
   "execution_count": 7,
   "metadata": {
    "ExecuteTime": {
     "end_time": "2021-09-04T10:03:14.933993Z",
     "start_time": "2021-09-04T10:03:14.912901Z"
    }
   },
   "outputs": [
    {
     "data": {
      "text/plain": [
       "array([[ 0.41028362,  0.6575195 , -0.88986682,  0.07026045, -0.33141256,\n",
       "         0.82030265],\n",
       "       [ 1.39925928,  1.23521235, -0.73465749, -1.68625071,  2.56038138,\n",
       "        -0.64452351],\n",
       "       [-0.06065717, -0.76045386,  1.02438157, -0.93346022, -0.16712136,\n",
       "        -1.65863393],\n",
       "       [ 0.41028362, -0.02520842, -0.78639393, -0.18066972,  0.29164871,\n",
       "         0.14422904],\n",
       "       [ 0.12771914,  0.34241431, -0.32076595,  0.07026045, -0.39084607,\n",
       "         0.36958691],\n",
       "       [ 0.69284809,  0.6575195 , -0.83813038, -0.68253005,  0.33778044,\n",
       "         0.93298158],\n",
       "       [ 0.4573777 ,  0.71003703, -0.47597528, -0.18066972,  0.29695528,\n",
       "         0.93298158],\n",
       "       [-0.10775125, -0.13024348, -0.78639393, -0.18066972, -0.51381683,\n",
       "         0.59494478],\n",
       "       [ 1.25797704,  0.76255456, -1.30375836, -0.43159988,  0.85874344,\n",
       "         1.15833946],\n",
       "       [ 0.36318954, -0.07772595,  0.24833493, -1.43532055,  2.21481798,\n",
       "         0.0315501 ],\n",
       "       [ 1.06960072,  0.92010716, -0.47597528, -0.68253005,  0.52938275,\n",
       "         0.48226584],\n",
       "       [-0.06065717,  0.44744937, -0.01034729, -0.43159988,  0.04698077,\n",
       "         0.25690797],\n",
       "       [-0.10775125,  0.23737924,  0.14486204,  0.07026045, -0.86787073,\n",
       "         0.82030265],\n",
       "       [-1.7466252 , -2.02087462,  0.76569936,  1.32491127, -1.21718409,\n",
       "        -0.75720245],\n",
       "       [ 1.02250664,  0.76255456, -1.30375836, -1.18439038,  0.20037583,\n",
       "         0.93298158],\n",
       "       [-2.46245521, -2.54604994,  2.6282113 ,  1.57584144, -1.29635802,\n",
       "        -1.99667073],\n",
       "       [ 0.88122441,  0.71003703, -0.9933397 , -0.18066972,  0.64117435,\n",
       "         0.70762371],\n",
       "       [-1.8031381 , -1.44318177,  1.43827311,  3.08142243, -1.32197103,\n",
       "        -2.22202861],\n",
       "       [-0.24903349,  0.97262469,  0.04138915,  1.07398111, -0.86659715,\n",
       "        -0.98256032],\n",
       "       [ 0.2219073 , -0.07772595,  0.55875358,  0.07026045,  0.77772991,\n",
       "         0.0315501 ],\n",
       "       [-0.81416244, -0.60290126,  1.49000956,  0.82305094, -0.84324827,\n",
       "        -0.19380777],\n",
       "       [ 0.17481322,  0.18486171, -0.16555662, -0.43159988,  0.01167444,\n",
       "         0.36958691],\n",
       "       [-0.39031573,  0.02730912,  0.24833493,  0.32119061, -0.99331788,\n",
       "         0.59494478],\n",
       "       [-1.70894994, -1.91583956,  1.541746  ,  0.57212078, -1.09888311,\n",
       "        -1.77131286],\n",
       "       [ 1.02250664,  0.97262469, -1.04507615, -0.43159988,  1.14098185,\n",
       "         1.04566052]])"
      ]
     },
     "execution_count": 7,
     "metadata": {},
     "output_type": "execute_result"
    }
   ],
   "source": [
    "uni_normal"
   ]
  },
  {
   "cell_type": "code",
   "execution_count": 8,
   "metadata": {
    "ExecuteTime": {
     "end_time": "2021-09-04T10:03:15.811405Z",
     "start_time": "2021-09-04T10:03:15.789188Z"
    }
   },
   "outputs": [],
   "source": [
    "pca = PCA()\n",
    "pca_values = pca.fit_transform(uni_normal)"
   ]
  },
  {
   "cell_type": "code",
   "execution_count": 9,
   "metadata": {
    "ExecuteTime": {
     "end_time": "2021-08-09T16:44:26.912615Z",
     "start_time": "2021-08-09T16:44:26.903084Z"
    }
   },
   "outputs": [
    {
     "data": {
      "text/plain": [
       "array([0.76868084, 0.13113602, 0.04776031, 0.02729668, 0.0207177 ,\n",
       "       0.00440844])"
      ]
     },
     "execution_count": 9,
     "metadata": {},
     "output_type": "execute_result"
    }
   ],
   "source": [
    "# The amount of variance that each PCA explains is \n",
    "var = pca.explained_variance_ratio_\n",
    "var"
   ]
  },
  {
   "cell_type": "code",
   "execution_count": 10,
   "metadata": {
    "ExecuteTime": {
     "end_time": "2021-08-09T16:45:17.485764Z",
     "start_time": "2021-08-09T16:45:17.099538Z"
    }
   },
   "outputs": [
    {
     "data": {
      "text/plain": [
       "<BarContainer object of 6 artists>"
      ]
     },
     "execution_count": 10,
     "metadata": {},
     "output_type": "execute_result"
    },
    {
     "data": {
      "image/png": "[encoded data removed]",
      "text/plain": [
       "<Figure size 432x288 with 1 Axes>"
      ]
     },
     "metadata": {
      "needs_background": "light"
     },
     "output_type": "display_data"
    }
   ],
   "source": [
    "plt.bar(range(1,len(var)+1),var)"
   ]
  },
  {
   "cell_type": "code",
   "execution_count": 11,
   "metadata": {
    "ExecuteTime": {
     "end_time": "2021-08-09T16:44:27.333927Z",
     "start_time": "2021-08-09T16:44:27.295019Z"
    }
   },
   "outputs": [
    {
     "data": {
      "text/plain": [
       "array([ 76.87,  89.98,  94.76,  97.49,  99.56, 100.  ])"
      ]
     },
     "execution_count": 11,
     "metadata": {},
     "output_type": "execute_result"
    }
   ],
   "source": [
    "# Cumulative variance \n",
    "var1 = np.cumsum(np.round(var,decimals = 4)*100)\n",
    "var1"
   ]
  },
  {
   "cell_type": "code",
   "execution_count": 12,
   "metadata": {
    "ExecuteTime": {
     "end_time": "2021-08-09T16:44:27.747648Z",
     "start_time": "2021-08-09T16:44:27.735684Z"
    }
   },
   "outputs": [
    {
     "data": {
      "text/plain": [
       "array([[-0.45774863, -0.42714437,  0.42430805,  0.39064831, -0.36252316,\n",
       "        -0.37940403],\n",
       "       [ 0.03968044, -0.19993153,  0.32089297, -0.43256441,  0.6344864 ,\n",
       "        -0.51555367],\n",
       "       [ 0.1870388 ,  0.49780855, -0.15627899,  0.60608085,  0.20474114,\n",
       "        -0.53247261],\n",
       "       [ 0.13124033,  0.37489567,  0.0612872 , -0.50739095, -0.62340055,\n",
       "        -0.43863341],\n",
       "       [ 0.02064583,  0.4820162 ,  0.8010936 ,  0.07682369,  0.07254775,\n",
       "         0.33810965],\n",
       "       [ 0.8580547 , -0.39607492,  0.21693361,  0.1720479 , -0.17376309,\n",
       "        -0.00353754]])"
      ]
     },
     "execution_count": 12,
     "metadata": {},
     "output_type": "execute_result"
    }
   ],
   "source": [
    "pca.components_"
   ]
  },
  {
   "cell_type": "code",
   "execution_count": 13,
   "metadata": {
    "ExecuteTime": {
     "end_time": "2021-08-09T16:44:28.819369Z",
     "start_time": "2021-08-09T16:44:28.562147Z"
    }
   },
   "outputs": [
    {
     "data": {
      "text/plain": [
       "(0.0, 100.0)"
      ]
     },
     "execution_count": 13,
     "metadata": {},
     "output_type": "execute_result"
    },
    {
     "data": {
      "image/png": "[encoded data removed]",
      "text/plain": [
       "<Figure size 432x288 with 1 Axes>"
      ]
     },
     "metadata": {
      "needs_background": "light"
     },
     "output_type": "display_data"
    }
   ],
   "source": [
    "# Variance plot for PCA components obtained \n",
    "plt.plot(var1,color=\"red\")\n",
    "plt.ylim(0,100)"
   ]
  },
  {
   "cell_type": "code",
   "execution_count": 14,
   "metadata": {
    "ExecuteTime": {
     "end_time": "2021-09-04T09:48:25.073618Z",
     "start_time": "2021-09-04T09:48:25.068743Z"
    }
   },
   "outputs": [
    {
     "data": {
      "text/plain": [
       "(25, 6)"
      ]
     },
     "execution_count": 14,
     "metadata": {},
     "output_type": "execute_result"
    }
   ],
   "source": [
    "UNI.shape"
   ]
  },
  {
   "cell_type": "code",
   "execution_count": 15,
   "metadata": {
    "ExecuteTime": {
     "end_time": "2021-03-06T09:40:31.042345Z",
     "start_time": "2021-03-06T09:40:31.037146Z"
    }
   },
   "outputs": [
    {
     "data": {
      "text/plain": [
       "(25, 6)"
      ]
     },
     "execution_count": 15,
     "metadata": {},
     "output_type": "execute_result"
    }
   ],
   "source": [
    "pca_values.shape"
   ]
  },
  {
   "cell_type": "code",
   "execution_count": 16,
   "metadata": {},
   "outputs": [
    {
     "data": {
      "text/plain": [
       "<matplotlib.collections.PathCollection at 0x153e22c3bb0>"
      ]
     },
     "execution_count": 16,
     "metadata": {},
     "output_type": "execute_result"
    },
    {
     "data": {
      "image/png": "[encoded data removed]",
      "text/plain": [
       "<Figure size 432x288 with 1 Axes>"
      ]
     },
     "metadata": {
      "needs_background": "light"
     },
     "output_type": "display_data"
    }
   ],
   "source": [
    "# plot between PCA1 and PCA2 \n",
    "x = pca_values[:,0]\n",
    "y = pca_values[:,1]\n",
    "#z = pca_values[:2:3]\n",
    "plt.scatter(x,y)"
   ]
  },
  {
   "cell_type": "code",
   "execution_count": 17,
   "metadata": {
    "ExecuteTime": {
     "end_time": "2021-03-06T09:41:24.751721Z",
     "start_time": "2021-03-06T09:41:24.744501Z"
    }
   },
   "outputs": [],
   "source": [
    "finalDf = pd.concat([pd.DataFrame(pca_values[:,0:2],columns=['pc1','pc2']), uni[['Univ']]], axis = 1)\n",
    "\n",
    "\n",
    "\n",
    "\n"
   ]
  },
  {
   "cell_type": "code",
   "execution_count": 18,
   "metadata": {
    "ExecuteTime": {
     "end_time": "2021-03-06T09:41:30.725861Z",
     "start_time": "2021-03-06T09:41:30.698911Z"
    },
    "scrolled": true
   },
   "outputs": [
    {
     "data": {
      "text/html": [
       "<div>\n",
       "<style scoped>\n",
       "    .dataframe tbody tr th:only-of-type {\n",
       "        vertical-align: middle;\n",
       "    }\n",
       "\n",
       "    .dataframe tbody tr th {\n",
       "        vertical-align: top;\n",
       "    }\n",
       "\n",
       "    .dataframe thead th {\n",
       "        text-align: right;\n",
       "    }\n",
       "</style>\n",
       "<table border=\"1\" class=\"dataframe\">\n",
       "  <thead>\n",
       "    <tr style=\"text-align: right;\">\n",
       "      <th></th>\n",
       "      <th>pc1</th>\n",
       "      <th>pc2</th>\n",
       "      <th>Univ</th>\n",
       "    </tr>\n",
       "  </thead>\n",
       "  <tbody>\n",
       "    <tr>\n",
       "      <th>0</th>\n",
       "      <td>-1.009874</td>\n",
       "      <td>-1.064310</td>\n",
       "      <td>Brown</td>\n",
       "    </tr>\n",
       "    <tr>\n",
       "      <th>1</th>\n",
       "      <td>-2.822238</td>\n",
       "      <td>2.259045</td>\n",
       "      <td>CalTech</td>\n",
       "    </tr>\n",
       "    <tr>\n",
       "      <th>2</th>\n",
       "      <td>1.112466</td>\n",
       "      <td>1.631209</td>\n",
       "      <td>CMU</td>\n",
       "    </tr>\n",
       "    <tr>\n",
       "      <th>3</th>\n",
       "      <td>-0.741741</td>\n",
       "      <td>-0.042187</td>\n",
       "      <td>Columbia</td>\n",
       "    </tr>\n",
       "    <tr>\n",
       "      <th>4</th>\n",
       "      <td>-0.311912</td>\n",
       "      <td>-0.635244</td>\n",
       "      <td>Cornell</td>\n",
       "    </tr>\n",
       "    <tr>\n",
       "      <th>5</th>\n",
       "      <td>-1.696691</td>\n",
       "      <td>-0.344363</td>\n",
       "      <td>Dartmouth</td>\n",
       "    </tr>\n",
       "    <tr>\n",
       "      <th>6</th>\n",
       "      <td>-1.246821</td>\n",
       "      <td>-0.490984</td>\n",
       "      <td>Duke</td>\n",
       "    </tr>\n",
       "    <tr>\n",
       "      <th>7</th>\n",
       "      <td>-0.338750</td>\n",
       "      <td>-0.785169</td>\n",
       "      <td>Georgetown</td>\n",
       "    </tr>\n",
       "    <tr>\n",
       "      <th>8</th>\n",
       "      <td>-2.374150</td>\n",
       "      <td>-0.386539</td>\n",
       "      <td>Harvard</td>\n",
       "    </tr>\n",
       "    <tr>\n",
       "      <th>9</th>\n",
       "      <td>-1.403277</td>\n",
       "      <td>2.119515</td>\n",
       "      <td>JohnsHopkins</td>\n",
       "    </tr>\n",
       "    <tr>\n",
       "      <th>10</th>\n",
       "      <td>-1.726103</td>\n",
       "      <td>0.088237</td>\n",
       "      <td>MIT</td>\n",
       "    </tr>\n",
       "    <tr>\n",
       "      <th>11</th>\n",
       "      <td>-0.450857</td>\n",
       "      <td>-0.011133</td>\n",
       "      <td>Northwestern</td>\n",
       "    </tr>\n",
       "    <tr>\n",
       "      <th>12</th>\n",
       "      <td>0.040238</td>\n",
       "      <td>-1.009204</td>\n",
       "      <td>NotreDame</td>\n",
       "    </tr>\n",
       "    <tr>\n",
       "      <th>13</th>\n",
       "      <td>3.233730</td>\n",
       "      <td>-0.374580</td>\n",
       "      <td>PennState</td>\n",
       "    </tr>\n",
       "    <tr>\n",
       "      <th>14</th>\n",
       "      <td>-2.236265</td>\n",
       "      <td>-0.371793</td>\n",
       "      <td>Princeton</td>\n",
       "    </tr>\n",
       "    <tr>\n",
       "      <th>15</th>\n",
       "      <td>5.172992</td>\n",
       "      <td>0.779915</td>\n",
       "      <td>Purdue</td>\n",
       "    </tr>\n",
       "    <tr>\n",
       "      <th>16</th>\n",
       "      <td>-1.699644</td>\n",
       "      <td>-0.305597</td>\n",
       "      <td>Stanford</td>\n",
       "    </tr>\n",
       "    <tr>\n",
       "      <th>17</th>\n",
       "      <td>4.578146</td>\n",
       "      <td>-0.347591</td>\n",
       "      <td>TexasA&amp;M</td>\n",
       "    </tr>\n",
       "    <tr>\n",
       "      <th>18</th>\n",
       "      <td>0.822603</td>\n",
       "      <td>-0.698906</td>\n",
       "      <td>UCBerkeley</td>\n",
       "    </tr>\n",
       "    <tr>\n",
       "      <th>19</th>\n",
       "      <td>-0.097762</td>\n",
       "      <td>0.650446</td>\n",
       "      <td>UChicago</td>\n",
       "    </tr>\n",
       "    <tr>\n",
       "      <th>20</th>\n",
       "      <td>1.963183</td>\n",
       "      <td>-0.224768</td>\n",
       "      <td>UMichigan</td>\n",
       "    </tr>\n",
       "    <tr>\n",
       "      <th>21</th>\n",
       "      <td>-0.542289</td>\n",
       "      <td>-0.079589</td>\n",
       "      <td>UPenn</td>\n",
       "    </tr>\n",
       "    <tr>\n",
       "      <th>22</th>\n",
       "      <td>0.532221</td>\n",
       "      <td>-1.017167</td>\n",
       "      <td>UVA</td>\n",
       "    </tr>\n",
       "    <tr>\n",
       "      <th>23</th>\n",
       "      <td>3.548697</td>\n",
       "      <td>0.778462</td>\n",
       "      <td>UWisconsin</td>\n",
       "    </tr>\n",
       "    <tr>\n",
       "      <th>24</th>\n",
       "      <td>-2.305900</td>\n",
       "      <td>-0.117704</td>\n",
       "      <td>Yale</td>\n",
       "    </tr>\n",
       "  </tbody>\n",
       "</table>\n",
       "</div>"
      ],
      "text/plain": [
       "         pc1       pc2          Univ\n",
       "0  -1.009874 -1.064310         Brown\n",
       "1  -2.822238  2.259045       CalTech\n",
       "2   1.112466  1.631209           CMU\n",
       "3  -0.741741 -0.042187      Columbia\n",
       "4  -0.311912 -0.635244       Cornell\n",
       "5  -1.696691 -0.344363     Dartmouth\n",
       "6  -1.246821 -0.490984          Duke\n",
       "7  -0.338750 -0.785169    Georgetown\n",
       "8  -2.374150 -0.386539       Harvard\n",
       "9  -1.403277  2.119515  JohnsHopkins\n",
       "10 -1.726103  0.088237           MIT\n",
       "11 -0.450857 -0.011133  Northwestern\n",
       "12  0.040238 -1.009204     NotreDame\n",
       "13  3.233730 -0.374580     PennState\n",
       "14 -2.236265 -0.371793     Princeton\n",
       "15  5.172992  0.779915        Purdue\n",
       "16 -1.699644 -0.305597      Stanford\n",
       "17  4.578146 -0.347591      TexasA&M\n",
       "18  0.822603 -0.698906    UCBerkeley\n",
       "19 -0.097762  0.650446      UChicago\n",
       "20  1.963183 -0.224768     UMichigan\n",
       "21 -0.542289 -0.079589         UPenn\n",
       "22  0.532221 -1.017167           UVA\n",
       "23  3.548697  0.778462    UWisconsin\n",
       "24 -2.305900 -0.117704          Yale"
      ]
     },
     "execution_count": 18,
     "metadata": {},
     "output_type": "execute_result"
    }
   ],
   "source": [
    "finalDf"
   ]
  },
  {
   "cell_type": "code",
   "execution_count": 19,
   "metadata": {
    "ExecuteTime": {
     "end_time": "2021-09-04T10:04:39.087016Z",
     "start_time": "2021-09-04T10:04:39.061528Z"
    }
   },
   "outputs": [
    {
     "data": {
      "text/plain": [
       "array([[ 0.41028362,  0.6575195 , -0.88986682,  0.07026045, -0.33141256,\n",
       "         0.82030265],\n",
       "       [ 1.39925928,  1.23521235, -0.73465749, -1.68625071,  2.56038138,\n",
       "        -0.64452351]])"
      ]
     },
     "execution_count": 19,
     "metadata": {},
     "output_type": "execute_result"
    }
   ],
   "source": [
    "uni_normal[:2,:]"
   ]
  },
  {
   "cell_type": "code",
   "execution_count": 20,
   "metadata": {},
   "outputs": [
    {
     "data": {
      "text/plain": [
       "<AxesSubplot:xlabel='pc1', ylabel='pc2'>"
      ]
     },
     "execution_count": 20,
     "metadata": {},
     "output_type": "execute_result"
    },
    {
     "data": {
      "image/png": "[encoded data removed]",
      "text/plain": [
       "<Figure size 432x288 with 1 Axes>"
      ]
     },
     "metadata": {
      "needs_background": "light"
     },
     "output_type": "display_data"
    }
   ],
   "source": [
    "import seaborn as sns\n",
    "sns.scatterplot(data=finalDf,x='pc1',y='pc2',hue='Univ')"
   ]
  },
  {
   "cell_type": "markdown",
   "metadata": {},
   "source": [
    "# iris data "
   ]
  },
  {
   "cell_type": "code",
   "execution_count": 21,
   "metadata": {},
   "outputs": [],
   "source": [
    "import pandas as pd \n",
    "import numpy as np\n",
    "from sklearn.decomposition import PCA\n",
    "import matplotlib.pyplot as plt\n",
    "from sklearn.preprocessing import scale \n",
    "import seaborn as sns"
   ]
  },
  {
   "cell_type": "code",
   "execution_count": 22,
   "metadata": {},
   "outputs": [],
   "source": [
    "data=sns.load_dataset(\"iris\")"
   ]
  },
  {
   "cell_type": "code",
   "execution_count": 23,
   "metadata": {},
   "outputs": [
    {
     "data": {
      "text/html": [
       "<div>\n",
       "<style scoped>\n",
       "    .dataframe tbody tr th:only-of-type {\n",
       "        vertical-align: middle;\n",
       "    }\n",
       "\n",
       "    .dataframe tbody tr th {\n",
       "        vertical-align: top;\n",
       "    }\n",
       "\n",
       "    .dataframe thead th {\n",
       "        text-align: right;\n",
       "    }\n",
       "</style>\n",
       "<table border=\"1\" class=\"dataframe\">\n",
       "  <thead>\n",
       "    <tr style=\"text-align: right;\">\n",
       "      <th></th>\n",
       "      <th>sepal_length</th>\n",
       "      <th>sepal_width</th>\n",
       "      <th>petal_length</th>\n",
       "      <th>petal_width</th>\n",
       "      <th>species</th>\n",
       "    </tr>\n",
       "  </thead>\n",
       "  <tbody>\n",
       "    <tr>\n",
       "      <th>0</th>\n",
       "      <td>5.1</td>\n",
       "      <td>3.5</td>\n",
       "      <td>1.4</td>\n",
       "      <td>0.2</td>\n",
       "      <td>setosa</td>\n",
       "    </tr>\n",
       "    <tr>\n",
       "      <th>1</th>\n",
       "      <td>4.9</td>\n",
       "      <td>3.0</td>\n",
       "      <td>1.4</td>\n",
       "      <td>0.2</td>\n",
       "      <td>setosa</td>\n",
       "    </tr>\n",
       "    <tr>\n",
       "      <th>2</th>\n",
       "      <td>4.7</td>\n",
       "      <td>3.2</td>\n",
       "      <td>1.3</td>\n",
       "      <td>0.2</td>\n",
       "      <td>setosa</td>\n",
       "    </tr>\n",
       "    <tr>\n",
       "      <th>3</th>\n",
       "      <td>4.6</td>\n",
       "      <td>3.1</td>\n",
       "      <td>1.5</td>\n",
       "      <td>0.2</td>\n",
       "      <td>setosa</td>\n",
       "    </tr>\n",
       "    <tr>\n",
       "      <th>4</th>\n",
       "      <td>5.0</td>\n",
       "      <td>3.6</td>\n",
       "      <td>1.4</td>\n",
       "      <td>0.2</td>\n",
       "      <td>setosa</td>\n",
       "    </tr>\n",
       "    <tr>\n",
       "      <th>...</th>\n",
       "      <td>...</td>\n",
       "      <td>...</td>\n",
       "      <td>...</td>\n",
       "      <td>...</td>\n",
       "      <td>...</td>\n",
       "    </tr>\n",
       "    <tr>\n",
       "      <th>145</th>\n",
       "      <td>6.7</td>\n",
       "      <td>3.0</td>\n",
       "      <td>5.2</td>\n",
       "      <td>2.3</td>\n",
       "      <td>virginica</td>\n",
       "    </tr>\n",
       "    <tr>\n",
       "      <th>146</th>\n",
       "      <td>6.3</td>\n",
       "      <td>2.5</td>\n",
       "      <td>5.0</td>\n",
       "      <td>1.9</td>\n",
       "      <td>virginica</td>\n",
       "    </tr>\n",
       "    <tr>\n",
       "      <th>147</th>\n",
       "      <td>6.5</td>\n",
       "      <td>3.0</td>\n",
       "      <td>5.2</td>\n",
       "      <td>2.0</td>\n",
       "      <td>virginica</td>\n",
       "    </tr>\n",
       "    <tr>\n",
       "      <th>148</th>\n",
       "      <td>6.2</td>\n",
       "      <td>3.4</td>\n",
       "      <td>5.4</td>\n",
       "      <td>2.3</td>\n",
       "      <td>virginica</td>\n",
       "    </tr>\n",
       "    <tr>\n",
       "      <th>149</th>\n",
       "      <td>5.9</td>\n",
       "      <td>3.0</td>\n",
       "      <td>5.1</td>\n",
       "      <td>1.8</td>\n",
       "      <td>virginica</td>\n",
       "    </tr>\n",
       "  </tbody>\n",
       "</table>\n",
       "<p>150 rows × 5 columns</p>\n",
       "</div>"
      ],
      "text/plain": [
       "     sepal_length  sepal_width  petal_length  petal_width    species\n",
       "0             5.1          3.5           1.4          0.2     setosa\n",
       "1             4.9          3.0           1.4          0.2     setosa\n",
       "2             4.7          3.2           1.3          0.2     setosa\n",
       "3             4.6          3.1           1.5          0.2     setosa\n",
       "4             5.0          3.6           1.4          0.2     setosa\n",
       "..            ...          ...           ...          ...        ...\n",
       "145           6.7          3.0           5.2          2.3  virginica\n",
       "146           6.3          2.5           5.0          1.9  virginica\n",
       "147           6.5          3.0           5.2          2.0  virginica\n",
       "148           6.2          3.4           5.4          2.3  virginica\n",
       "149           5.9          3.0           5.1          1.8  virginica\n",
       "\n",
       "[150 rows x 5 columns]"
      ]
     },
     "execution_count": 23,
     "metadata": {},
     "output_type": "execute_result"
    }
   ],
   "source": [
    "data"
   ]
  },
  {
   "cell_type": "code",
   "execution_count": 24,
   "metadata": {},
   "outputs": [],
   "source": [
    "pca = PCA()\n",
    "pca_values = pca.fit_transform(data.iloc[:,:4])"
   ]
  },
  {
   "cell_type": "code",
   "execution_count": 25,
   "metadata": {},
   "outputs": [
    {
     "data": {
      "text/plain": [
       "(150, 4)"
      ]
     },
     "execution_count": 25,
     "metadata": {},
     "output_type": "execute_result"
    }
   ],
   "source": [
    "pca_values.shape"
   ]
  },
  {
   "cell_type": "code",
   "execution_count": 26,
   "metadata": {},
   "outputs": [
    {
     "data": {
      "text/plain": [
       "<BarContainer object of 4 artists>"
      ]
     },
     "execution_count": 26,
     "metadata": {},
     "output_type": "execute_result"
    },
    {
     "data": {
      "image/png": "[encoded data removed]",
      "text/plain": [
       "<Figure size 432x288 with 1 Axes>"
      ]
     },
     "metadata": {
      "needs_background": "light"
     },
     "output_type": "display_data"
    }
   ],
   "source": [
    "var = pca.explained_variance_ratio_\n",
    "var\n",
    "plt.bar(range(1,len(var)+1),var)"
   ]
  },
  {
   "cell_type": "code",
   "execution_count": 27,
   "metadata": {},
   "outputs": [
    {
     "data": {
      "text/plain": [
       "array([0.92461872, 0.05306648, 0.01710261, 0.00521218])"
      ]
     },
     "execution_count": 27,
     "metadata": {},
     "output_type": "execute_result"
    }
   ],
   "source": [
    "var"
   ]
  },
  {
   "cell_type": "code",
   "execution_count": 28,
   "metadata": {},
   "outputs": [],
   "source": [
    "iris_pca=pd.DataFrame(columns=[\"pc1\",\"pc2\",\"class\"])"
   ]
  },
  {
   "cell_type": "code",
   "execution_count": 29,
   "metadata": {},
   "outputs": [],
   "source": [
    "iris_pca[\"pc1\"]=pca_values[:,0]\n",
    "iris_pca[\"pc2\"]=pca_values[:,1]\n",
    "iris_pca[\"class\"]=data[\"species\"]"
   ]
  },
  {
   "cell_type": "code",
   "execution_count": 30,
   "metadata": {},
   "outputs": [],
   "source": [
    "iris_pca[\"class\"]=iris_pca[\"class\"].map({\"setosa\":0,\"versicolor\":1,\"virginica\":2})"
   ]
  },
  {
   "cell_type": "code",
   "execution_count": 31,
   "metadata": {},
   "outputs": [
    {
     "data": {
      "text/plain": [
       "0    50\n",
       "1    50\n",
       "2    50\n",
       "Name: class, dtype: int64"
      ]
     },
     "execution_count": 31,
     "metadata": {},
     "output_type": "execute_result"
    }
   ],
   "source": [
    "iris_pca[\"class\"].value_counts()"
   ]
  },
  {
   "cell_type": "code",
   "execution_count": 32,
   "metadata": {
    "scrolled": true
   },
   "outputs": [
    {
     "data": {
      "text/html": [
       "<div>\n",
       "<style scoped>\n",
       "    .dataframe tbody tr th:only-of-type {\n",
       "        vertical-align: middle;\n",
       "    }\n",
       "\n",
       "    .dataframe tbody tr th {\n",
       "        vertical-align: top;\n",
       "    }\n",
       "\n",
       "    .dataframe thead th {\n",
       "        text-align: right;\n",
       "    }\n",
       "</style>\n",
       "<table border=\"1\" class=\"dataframe\">\n",
       "  <thead>\n",
       "    <tr style=\"text-align: right;\">\n",
       "      <th></th>\n",
       "      <th>pc1</th>\n",
       "      <th>pc2</th>\n",
       "      <th>class</th>\n",
       "    </tr>\n",
       "  </thead>\n",
       "  <tbody>\n",
       "    <tr>\n",
       "      <th>0</th>\n",
       "      <td>-2.684126</td>\n",
       "      <td>0.319397</td>\n",
       "      <td>0</td>\n",
       "    </tr>\n",
       "    <tr>\n",
       "      <th>1</th>\n",
       "      <td>-2.714142</td>\n",
       "      <td>-0.177001</td>\n",
       "      <td>0</td>\n",
       "    </tr>\n",
       "    <tr>\n",
       "      <th>2</th>\n",
       "      <td>-2.888991</td>\n",
       "      <td>-0.144949</td>\n",
       "      <td>0</td>\n",
       "    </tr>\n",
       "    <tr>\n",
       "      <th>3</th>\n",
       "      <td>-2.745343</td>\n",
       "      <td>-0.318299</td>\n",
       "      <td>0</td>\n",
       "    </tr>\n",
       "    <tr>\n",
       "      <th>4</th>\n",
       "      <td>-2.728717</td>\n",
       "      <td>0.326755</td>\n",
       "      <td>0</td>\n",
       "    </tr>\n",
       "    <tr>\n",
       "      <th>...</th>\n",
       "      <td>...</td>\n",
       "      <td>...</td>\n",
       "      <td>...</td>\n",
       "    </tr>\n",
       "    <tr>\n",
       "      <th>145</th>\n",
       "      <td>1.944110</td>\n",
       "      <td>0.187532</td>\n",
       "      <td>2</td>\n",
       "    </tr>\n",
       "    <tr>\n",
       "      <th>146</th>\n",
       "      <td>1.527167</td>\n",
       "      <td>-0.375317</td>\n",
       "      <td>2</td>\n",
       "    </tr>\n",
       "    <tr>\n",
       "      <th>147</th>\n",
       "      <td>1.764346</td>\n",
       "      <td>0.078859</td>\n",
       "      <td>2</td>\n",
       "    </tr>\n",
       "    <tr>\n",
       "      <th>148</th>\n",
       "      <td>1.900942</td>\n",
       "      <td>0.116628</td>\n",
       "      <td>2</td>\n",
       "    </tr>\n",
       "    <tr>\n",
       "      <th>149</th>\n",
       "      <td>1.390189</td>\n",
       "      <td>-0.282661</td>\n",
       "      <td>2</td>\n",
       "    </tr>\n",
       "  </tbody>\n",
       "</table>\n",
       "<p>150 rows × 3 columns</p>\n",
       "</div>"
      ],
      "text/plain": [
       "          pc1       pc2  class\n",
       "0   -2.684126  0.319397      0\n",
       "1   -2.714142 -0.177001      0\n",
       "2   -2.888991 -0.144949      0\n",
       "3   -2.745343 -0.318299      0\n",
       "4   -2.728717  0.326755      0\n",
       "..        ...       ...    ...\n",
       "145  1.944110  0.187532      2\n",
       "146  1.527167 -0.375317      2\n",
       "147  1.764346  0.078859      2\n",
       "148  1.900942  0.116628      2\n",
       "149  1.390189 -0.282661      2\n",
       "\n",
       "[150 rows x 3 columns]"
      ]
     },
     "execution_count": 32,
     "metadata": {},
     "output_type": "execute_result"
    }
   ],
   "source": [
    "iris_pca"
   ]
  },
  {
   "cell_type": "code",
   "execution_count": 33,
   "metadata": {},
   "outputs": [],
   "source": [
    "from sklearn.linear_model import LogisticRegression\n",
    "from sklearn.model_selection import train_test_split\n",
    "from sklearn.metrics import accuracy_score"
   ]
  },
  {
   "cell_type": "code",
   "execution_count": 34,
   "metadata": {},
   "outputs": [],
   "source": [
    "x_train,x_test,y_train,y_test=train_test_split(iris_pca.iloc[:,:-1],iris_pca.iloc[:,-1],test_size=0.2,shuffle=True)\n",
    "\n",
    "\n"
   ]
  },
  {
   "cell_type": "code",
   "execution_count": 37,
   "metadata": {
    "scrolled": true
   },
   "outputs": [
    {
     "data": {
      "text/html": [
       "<div>\n",
       "<style scoped>\n",
       "    .dataframe tbody tr th:only-of-type {\n",
       "        vertical-align: middle;\n",
       "    }\n",
       "\n",
       "    .dataframe tbody tr th {\n",
       "        vertical-align: top;\n",
       "    }\n",
       "\n",
       "    .dataframe thead th {\n",
       "        text-align: right;\n",
       "    }\n",
       "</style>\n",
       "<table border=\"1\" class=\"dataframe\">\n",
       "  <thead>\n",
       "    <tr style=\"text-align: right;\">\n",
       "      <th></th>\n",
       "      <th>pc1</th>\n",
       "      <th>pc2</th>\n",
       "    </tr>\n",
       "  </thead>\n",
       "  <tbody>\n",
       "    <tr>\n",
       "      <th>133</th>\n",
       "      <td>1.444161</td>\n",
       "      <td>-0.143413</td>\n",
       "    </tr>\n",
       "    <tr>\n",
       "      <th>118</th>\n",
       "      <td>3.795645</td>\n",
       "      <td>0.257323</td>\n",
       "    </tr>\n",
       "    <tr>\n",
       "      <th>94</th>\n",
       "      <td>0.356981</td>\n",
       "      <td>-0.504910</td>\n",
       "    </tr>\n",
       "    <tr>\n",
       "      <th>44</th>\n",
       "      <td>-2.209489</td>\n",
       "      <td>0.436663</td>\n",
       "    </tr>\n",
       "    <tr>\n",
       "      <th>10</th>\n",
       "      <td>-2.506947</td>\n",
       "      <td>0.645069</td>\n",
       "    </tr>\n",
       "    <tr>\n",
       "      <th>78</th>\n",
       "      <td>0.813291</td>\n",
       "      <td>-0.163350</td>\n",
       "    </tr>\n",
       "    <tr>\n",
       "      <th>42</th>\n",
       "      <td>-2.997407</td>\n",
       "      <td>-0.341926</td>\n",
       "    </tr>\n",
       "    <tr>\n",
       "      <th>112</th>\n",
       "      <td>2.165592</td>\n",
       "      <td>0.216276</td>\n",
       "    </tr>\n",
       "    <tr>\n",
       "      <th>17</th>\n",
       "      <td>-2.648297</td>\n",
       "      <td>0.311849</td>\n",
       "    </tr>\n",
       "    <tr>\n",
       "      <th>104</th>\n",
       "      <td>2.350006</td>\n",
       "      <td>-0.040261</td>\n",
       "    </tr>\n",
       "    <tr>\n",
       "      <th>96</th>\n",
       "      <td>0.376216</td>\n",
       "      <td>-0.293219</td>\n",
       "    </tr>\n",
       "    <tr>\n",
       "      <th>68</th>\n",
       "      <td>0.944734</td>\n",
       "      <td>-0.543146</td>\n",
       "    </tr>\n",
       "    <tr>\n",
       "      <th>116</th>\n",
       "      <td>1.949689</td>\n",
       "      <td>0.041943</td>\n",
       "    </tr>\n",
       "    <tr>\n",
       "      <th>22</th>\n",
       "      <td>-3.215939</td>\n",
       "      <td>0.133468</td>\n",
       "    </tr>\n",
       "    <tr>\n",
       "      <th>125</th>\n",
       "      <td>2.614090</td>\n",
       "      <td>0.560901</td>\n",
       "    </tr>\n",
       "    <tr>\n",
       "      <th>30</th>\n",
       "      <td>-2.587398</td>\n",
       "      <td>-0.204318</td>\n",
       "    </tr>\n",
       "    <tr>\n",
       "      <th>138</th>\n",
       "      <td>1.169326</td>\n",
       "      <td>-0.164990</td>\n",
       "    </tr>\n",
       "    <tr>\n",
       "      <th>60</th>\n",
       "      <td>-0.507841</td>\n",
       "      <td>-1.265971</td>\n",
       "    </tr>\n",
       "    <tr>\n",
       "      <th>27</th>\n",
       "      <td>-2.562320</td>\n",
       "      <td>0.367719</td>\n",
       "    </tr>\n",
       "    <tr>\n",
       "      <th>109</th>\n",
       "      <td>2.916751</td>\n",
       "      <td>0.782792</td>\n",
       "    </tr>\n",
       "    <tr>\n",
       "      <th>91</th>\n",
       "      <td>0.890815</td>\n",
       "      <td>-0.034464</td>\n",
       "    </tr>\n",
       "    <tr>\n",
       "      <th>50</th>\n",
       "      <td>1.284826</td>\n",
       "      <td>0.685160</td>\n",
       "    </tr>\n",
       "    <tr>\n",
       "      <th>87</th>\n",
       "      <td>0.815095</td>\n",
       "      <td>-0.372037</td>\n",
       "    </tr>\n",
       "    <tr>\n",
       "      <th>7</th>\n",
       "      <td>-2.626145</td>\n",
       "      <td>0.163385</td>\n",
       "    </tr>\n",
       "    <tr>\n",
       "      <th>58</th>\n",
       "      <td>1.044132</td>\n",
       "      <td>0.228362</td>\n",
       "    </tr>\n",
       "    <tr>\n",
       "      <th>71</th>\n",
       "      <td>0.357888</td>\n",
       "      <td>-0.068925</td>\n",
       "    </tr>\n",
       "    <tr>\n",
       "      <th>84</th>\n",
       "      <td>0.588006</td>\n",
       "      <td>-0.484287</td>\n",
       "    </tr>\n",
       "    <tr>\n",
       "      <th>83</th>\n",
       "      <td>1.380026</td>\n",
       "      <td>-0.420954</td>\n",
       "    </tr>\n",
       "    <tr>\n",
       "      <th>76</th>\n",
       "      <td>1.332024</td>\n",
       "      <td>0.244441</td>\n",
       "    </tr>\n",
       "    <tr>\n",
       "      <th>66</th>\n",
       "      <td>0.660284</td>\n",
       "      <td>-0.352970</td>\n",
       "    </tr>\n",
       "  </tbody>\n",
       "</table>\n",
       "</div>"
      ],
      "text/plain": [
       "          pc1       pc2\n",
       "133  1.444161 -0.143413\n",
       "118  3.795645  0.257323\n",
       "94   0.356981 -0.504910\n",
       "44  -2.209489  0.436663\n",
       "10  -2.506947  0.645069\n",
       "78   0.813291 -0.163350\n",
       "42  -2.997407 -0.341926\n",
       "112  2.165592  0.216276\n",
       "17  -2.648297  0.311849\n",
       "104  2.350006 -0.040261\n",
       "96   0.376216 -0.293219\n",
       "68   0.944734 -0.543146\n",
       "116  1.949689  0.041943\n",
       "22  -3.215939  0.133468\n",
       "125  2.614090  0.560901\n",
       "30  -2.587398 -0.204318\n",
       "138  1.169326 -0.164990\n",
       "60  -0.507841 -1.265971\n",
       "27  -2.562320  0.367719\n",
       "109  2.916751  0.782792\n",
       "91   0.890815 -0.034464\n",
       "50   1.284826  0.685160\n",
       "87   0.815095 -0.372037\n",
       "7   -2.626145  0.163385\n",
       "58   1.044132  0.228362\n",
       "71   0.357888 -0.068925\n",
       "84   0.588006 -0.484287\n",
       "83   1.380026 -0.420954\n",
       "76   1.332024  0.244441\n",
       "66   0.660284 -0.352970"
      ]
     },
     "execution_count": 37,
     "metadata": {},
     "output_type": "execute_result"
    }
   ],
   "source": [
    "x_test"
   ]
  },
  {
   "cell_type": "code",
   "execution_count": 39,
   "metadata": {},
   "outputs": [
    {
     "data": {
      "text/plain": [
       "133    2\n",
       "118    2\n",
       "94     1\n",
       "44     0\n",
       "10     0\n",
       "78     1\n",
       "42     0\n",
       "112    2\n",
       "17     0\n",
       "104    2\n",
       "96     1\n",
       "68     1\n",
       "116    2\n",
       "22     0\n",
       "125    2\n",
       "30     0\n",
       "138    2\n",
       "60     1\n",
       "27     0\n",
       "109    2\n",
       "91     1\n",
       "50     1\n",
       "87     1\n",
       "7      0\n",
       "58     1\n",
       "71     1\n",
       "84     1\n",
       "83     1\n",
       "76     1\n",
       "66     1\n",
       "Name: class, dtype: int64"
      ]
     },
     "execution_count": 39,
     "metadata": {},
     "output_type": "execute_result"
    }
   ],
   "source": [
    "y_test"
   ]
  },
  {
   "cell_type": "code",
   "execution_count": 38,
   "metadata": {},
   "outputs": [
    {
     "data": {
      "text/plain": [
       "LogisticRegression()"
      ]
     },
     "execution_count": 38,
     "metadata": {},
     "output_type": "execute_result"
    }
   ],
   "source": [
    "model=LogisticRegression()\n",
    "model.fit(x_train,y_train)"
   ]
  },
  {
   "cell_type": "code",
   "execution_count": 109,
   "metadata": {},
   "outputs": [],
   "source": [
    "y_test_pred=model.predict(x_test)"
   ]
  },
  {
   "cell_type": "code",
   "execution_count": 110,
   "metadata": {},
   "outputs": [
    {
     "data": {
      "text/plain": [
       "0.9"
      ]
     },
     "execution_count": 110,
     "metadata": {},
     "output_type": "execute_result"
    }
   ],
   "source": [
    "accuracy_score(y_test,y_test_pred)"
   ]
  },
  {
   "cell_type": "code",
   "execution_count": 111,
   "metadata": {},
   "outputs": [],
   "source": [
    "import  matplotlib.pyplot  as plt"
   ]
  },
  {
   "cell_type": "code",
   "execution_count": 112,
   "metadata": {},
   "outputs": [
    {
     "data": {
      "text/plain": [
       "<matplotlib.collections.PathCollection at 0x7fdc20c8e5e0>"
      ]
     },
     "execution_count": 112,
     "metadata": {},
     "output_type": "execute_result"
    },
    {
     "data": {
      "image/png": "[encoded data removed]",
      "text/plain": [
       "<Figure size 432x288 with 1 Axes>"
      ]
     },
     "metadata": {
      "needs_background": "light"
     },
     "output_type": "display_data"
    }
   ],
   "source": [
    "plt.scatter(iris_pca.iloc[:,0],iris_pca.iloc[:,1],c=iris_pca.iloc[:,-1])"
   ]
  },
  {
   "cell_type": "code",
   "execution_count": null,
   "metadata": {},
   "outputs": [],
   "source": []
  }
 ],
 "metadata": {
  "kernelspec": {
   "display_name": "Python 3",
   "language": "python",
   "name": "python3"
  },
  "language_info": {
   "codemirror_mode": {
    "name": "ipython",
    "version": 3
   },
   "file_extension": ".py",
   "mimetype": "text/x-python",
   "name": "python",
   "nbconvert_exporter": "python",
   "pygments_lexer": "ipython3",
   "version": "3.8.8"
  }
 },
 "nbformat": 4,
 "nbformat_minor": 2
}
